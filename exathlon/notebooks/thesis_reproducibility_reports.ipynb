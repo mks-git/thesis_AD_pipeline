{
 "cells": [
  {
   "cell_type": "markdown",
   "id": "cface4e2",
   "metadata": {},
   "source": [
    "# Run exathlon pipeline"
   ]
  },
  {
   "cell_type": "markdown",
   "id": "92a8b9c0",
   "metadata": {},
   "source": [
    "From the `src` directory, run with the default pipeline parameters:\n",
    "\n",
    "\n",
    "```bash\n",
    "> python run_pipeline.py --pipeline-type ad.ed --app-id 0 --model-type ae --scoring-method mse\n",
    "> python run_pipeline.py --pipeline-type ad.ed --app-id 0 --model-type ts2vec --scoring-method knn\n",
    "\n",
    "> python run_pipeline.py --pipeline-type ed --app-id 0 --model-type ae --scoring-method mse --explanation-method exstream --explained-predictions ground.truth\n",
    "> python run_pipeline.py --pipeline-type ed --app-id 0 --model-type ae --scoring-method mse --explanation-method exstream --explained-predictions model\n",
    "> python run_pipeline.py --pipeline-type ed --app-id 0 --model-type ts2vec --scoring-method knn --explanation-method exstream --explained-predictions model\n",
    "```\n",
    "\n",
    "\n",
    "--explanation-method {exstream,macrobase,lime}\n",
    "--explained-predictions {ground.truth,model}\n",
    "\n",
    "\n",
    "Then, run the following section of the notebook."
   ]
  },
  {
   "cell_type": "markdown",
   "id": "d9875c5f",
   "metadata": {},
   "source": [
    "## Setup and Pipeline Parameters"
   ]
  },
  {
   "cell_type": "markdown",
   "id": "e12bc3a9",
   "metadata": {},
   "source": [
    "## Generate Reports"
   ]
  },
  {
   "cell_type": "code",
   "execution_count": 10,
   "id": "5507f1a7",
   "metadata": {},
   "outputs": [
    {
     "name": "stdout",
     "output_type": "stream",
     "text": [
      "saving table to /home/markus/Desktop/master_thesis/pipeline/thesis_AD_pipeline/exathlon/outputs/reports/scoring_1/test_['auprc']_global_['avg'-'all']_table.csv... done.\n",
      "saving table to /home/markus/Desktop/master_thesis/pipeline/thesis_AD_pipeline/exathlon/outputs/reports/detection_1/median_test_['f_score'-'precision'-'recall']_global_['global']_table.csv... done.\n",
      "saving table to /home/markus/Desktop/master_thesis/pipeline/thesis_AD_pipeline/exathlon/outputs/reports/explanation_1/test_['ed1_conciseness'-'ed1_consistency'-'ed1_precision'-'ed2_conciseness'-'ed2_consistency'-'ed2_precision']_global_['global']_table.csv... done.\n"
     ]
    }
   ],
   "source": [
    "import sys\n",
    "sys.path.append('../src')\n",
    "\n",
    "from reporting.report_results import report_results\n",
    "from reporting.methods import COMPARED_ARGS, COMPARED_METHOD_TITLES\n",
    "\n",
    "# import argparse\n",
    "# reporting_args = argparse.Namespace(\n",
    "#     evaluation_step='scoring',\n",
    "#     scoring_set_name='test',\n",
    "#     scoring_metrics=['auprc'],\n",
    "#     scoring_granularity='global',\n",
    "#     app_id=2,\n",
    "#     scoring_anomaly_types=['global'],\n",
    "#     scoring_anomaly_avg_type='all',\n",
    "#     report_type='table'\n",
    "# )\n",
    "\n",
    "# report_results(reporting_args, COMPARED_ARGS, COMPARED_METHOD_TITLES)\n",
    "\n",
    "!python ../src/reporting/report_results.py \\\n",
    "  --evaluation-step scoring \\\n",
    "  --scoring-set-name test\\\n",
    "  --scoring-metrics auprc\\\n",
    "  --scoring-granularity global\n",
    "\n",
    "!python ../src/reporting/report_results.py \\\n",
    "  --evaluation-step detection \\\n",
    "  --detection-set-name test \\\n",
    "  --detection-metrics f_score precision recall \\\n",
    "  --detection-granularity global\\\n",
    "  --detection-anomaly-types global\n",
    "\n",
    "!python ../src/reporting/report_results.py \\\n",
    "  --evaluation-step explanation \\\n",
    "  --explanation-set-name test \\\n",
    "  --explanation-metrics ed1_conciseness ed1_consistency ed1_precision ed2_conciseness ed2_consistency ed2_precision \\\n",
    "  --explanation-granularity global\\\n",
    "  --explanation-anomaly-types global"
   ]
  }
 ],
 "metadata": {
  "kernelspec": {
   "display_name": "unified-py38",
   "language": "python",
   "name": "python3"
  },
  "language_info": {
   "codemirror_mode": {
    "name": "ipython",
    "version": 3
   },
   "file_extension": ".py",
   "mimetype": "text/x-python",
   "name": "python",
   "nbconvert_exporter": "python",
   "pygments_lexer": "ipython3",
   "version": "3.8.20"
  }
 },
 "nbformat": 4,
 "nbformat_minor": 5
}
